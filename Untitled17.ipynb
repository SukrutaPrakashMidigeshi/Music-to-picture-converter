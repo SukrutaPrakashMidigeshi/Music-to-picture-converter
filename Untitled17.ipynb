{
  "nbformat": 4,
  "nbformat_minor": 0,
  "metadata": {
    "colab": {
      "name": "Untitled17.ipynb",
      "provenance": [],
      "authorship_tag": "ABX9TyOepQj5RQNedhyv8SVFmUEA",
      "include_colab_link": true
    },
    "kernelspec": {
      "name": "python3",
      "display_name": "Python 3"
    },
    "language_info": {
      "name": "python"
    }
  },
  "cells": [
    {
      "cell_type": "markdown",
      "metadata": {
        "id": "view-in-github",
        "colab_type": "text"
      },
      "source": [
        "<a href=\"https://colab.research.google.com/github/SukrutaPrakashMidigeshi/Music-to-picture-converter/blob/main/Untitled17.ipynb\" target=\"_parent\"><img src=\"https://colab.research.google.com/assets/colab-badge.svg\" alt=\"Open In Colab\"/></a>"
      ]
    },
    {
      "cell_type": "code",
      "metadata": {
        "colab": {
          "base_uri": "https://localhost:8080/"
        },
        "id": "5K7SC-Wt0U-i",
        "outputId": "061de515-f2bb-49a1-9bf8-de5abe39fb54"
      },
      "source": [
        "from bs4 import BeautifulSoup\n",
        "import lxml\n",
        "import requests \n",
        "html_text = requests.get('https://www.india.gov.in/my-government/schemes?title=research&amp;page=1').text\n",
        "soup = BeautifulSoup(html_text,'lxml')\n",
        "tags=soup.find_all('ul')\n",
        "first=soup.find_all('li',class_=\"views-row views-row-1 views-row-odd views-row-first\")\n",
        "second=soup.find_all('div',class_=\"views-field views-field-title\")\n",
        "third=soup.find_all('span',class_=\"field-content\")\n",
        "for x in third[0:5]:\n",
        "  print(x.text)"
      ],
      "execution_count": 39,
      "outputs": [
        {
          "output_type": "stream",
          "name": "stdout",
          "text": [
            "Grants to Tribal Research Institutes\n",
            "Plan Scheme of Awards and Fellowship for Outstanding and Meritorious Research Work in Statistics\n",
            "Core Research Grant (CRG) Scheme\n",
            "Market Research Professional Services Scheme\n",
            "SERB-POWER Scheme (Promoting Opportunities for Women in Exploratory Research)\n"
          ]
        }
      ]
    },
    {
      "cell_type": "code",
      "metadata": {
        "id": "JGarXro4fSx7"
      },
      "source": [
        "from bs4 import BeautifulSoup\n",
        "import lxml\n",
        "import requests \n",
        "\n",
        "url='https://www.india.gov.in/my-government/schemes?title=research&page=1'\n",
        "\n",
        "def getdata(url):\n",
        "    html_text = requests.get(url).text\n",
        "    soup = BeautifulSoup(html_text,'lxml')\n",
        "    return soup\n",
        "\n",
        "\n",
        "def getnextpage(soup):\n",
        "    pages = soup.find('ul', class_='pager')\n",
        "    if(pages.find('li', class_='pager-next')==None):\n",
        "      return\n",
        "    else:  \n",
        "      pages = soup.find('ul', class_='pager')\n",
        "      url = 'https://www.india.gov.in'+str(pages.find('li', class_='pager-next').find('a')['href'])\n",
        "      return url\n",
        "\n",
        "while True:\n",
        "    soup = getdata(url)\n",
        "    tags=soup.find_all('ul')\n",
        "    first=soup.find_all('li',class_=\"views-row views-row-1 views-row-odd views-row-first\")\n",
        "    second=soup.find_all('div',class_=\"views-field views-field-title\")\n",
        "    third=soup.find_all('span',class_=\"field-content\")\n",
        "    for x in third[0:5]:\n",
        "      print(x.text)\n",
        "    url = getnextpage(soup)\n",
        "    if not url:\n",
        "        break"
      ],
      "execution_count": null,
      "outputs": []
    },
    {
      "cell_type": "code",
      "metadata": {
        "id": "JOgxXAjwmwhr"
      },
      "source": [
        "from bs4 import BeautifulSoup\n",
        "import lxml\n",
        "import requests \n",
        "\n",
        "url='https://www.india.gov.in/my-government/schemes?title=research&page=1'\n",
        "\n",
        "def getdata(url):\n",
        "    html_text = requests.get(url).text\n",
        "    soup = BeautifulSoup(html_text,'lxml')\n",
        "    return soup\n",
        "\n",
        "\n",
        "def getnextpage(soup):\n",
        "    pages = soup.find('ul', class_='pager')\n",
        "    if(pages.find('li', class_='pager-next')==None):\n",
        "      return\n",
        "    else:  \n",
        "      pages = soup.find('ul', class_='pager')\n",
        "      url = 'https://www.india.gov.in'+str(pages.find('li', class_='pager-next').find('a')['href'])\n",
        "      return url\n",
        "\n",
        "while True:\n",
        "    soup = getdata(url)\n",
        "    tags=soup.find_all('ul')\n",
        "    first=soup.find_all('li',class_=\"views-row views-row-1 views-row-odd views-row-first\")\n",
        "    second=soup.find_all('div',class_=\"views-field views-field-title\")\n",
        "    third=soup.find_all('span',class_=\"field-content\")\n",
        "    for x in third[0:5]:\n",
        "      print(x.text)\n",
        "    url = getnextpage(soup)\n",
        "    if not url:\n",
        "        break"
      ],
      "execution_count": null,
      "outputs": []
    }
  ]
}